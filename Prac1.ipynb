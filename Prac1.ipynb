{
  "nbformat": 4,
  "nbformat_minor": 0,
  "metadata": {
    "colab": {
      "provenance": []
    },
    "kernelspec": {
      "name": "python3",
      "display_name": "Python 3"
    },
    "language_info": {
      "name": "python"
    }
  },
  "cells": [
    {
      "cell_type": "markdown",
      "source": [
        "Practical 1\n",
        "Aim: Write a program to swap rows and columns of a given array in reverse order using numpy"
      ],
      "metadata": {
        "id": "HEzNqPATWtvv"
      }
    },
    {
      "cell_type": "code",
      "execution_count": null,
      "metadata": {
        "colab": {
          "base_uri": "https://localhost:8080/"
        },
        "id": "Qebj7DhIWeVx",
        "outputId": "abc093aa-42ca-4366-ecd6-0f72b74f6187"
      },
      "outputs": [
        {
          "output_type": "stream",
          "name": "stdout",
          "text": [
            "Original Array\n",
            "[['C1' 'C2' 'C3' 'C4']\n",
            " ['0' '1' '3' '4']\n",
            " ['90' '91' '93' '94']\n",
            " ['5' '0' '3' '2']]\n"
          ]
        }
      ],
      "source": [
        "#import library\n",
        "import numpy as np\n",
        "\n",
        "#declare variable\n",
        "nums=np.array([['C1','C2','C3','C4'],[0,1,3,4],[90,91,93,94],[5,0,3,2]])\n",
        "print(\"Original Array\")\n",
        "print(nums)\n",
        "\n",
        "\n",
        "\n"
      ]
    },
    {
      "cell_type": "code",
      "source": [
        "#rows are reversed\n",
        "print(nums[::-1])"
      ],
      "metadata": {
        "colab": {
          "base_uri": "https://localhost:8080/"
        },
        "id": "aBCo-lc-YbN4",
        "outputId": "06e68c85-dcb8-4b0b-defe-7171f2101e47"
      },
      "execution_count": null,
      "outputs": [
        {
          "output_type": "stream",
          "name": "stdout",
          "text": [
            "[['5' '0' '3' '2']\n",
            " ['90' '91' '93' '94']\n",
            " ['0' '1' '3' '4']\n",
            " ['C1' 'C2' 'C3' 'C4']]\n"
          ]
        }
      ]
    },
    {
      "cell_type": "code",
      "source": [
        "#columns are reversed\n",
        "print(nums[::,::-1])"
      ],
      "metadata": {
        "colab": {
          "base_uri": "https://localhost:8080/"
        },
        "id": "KDrm8yeydUNq",
        "outputId": "618e8cc0-3170-4f93-f8dc-0d2ae042e35a"
      },
      "execution_count": null,
      "outputs": [
        {
          "output_type": "stream",
          "name": "stdout",
          "text": [
            "[['C4' 'C3' 'C2' 'C1']\n",
            " ['4' '3' '1' '0']\n",
            " ['94' '93' '91' '90']\n",
            " ['2' '3' '0' '5']]\n"
          ]
        }
      ]
    },
    {
      "cell_type": "code",
      "source": [
        "#rows are reversed and their values are reversed\n",
        "print(nums[::-1,::-1])"
      ],
      "metadata": {
        "colab": {
          "base_uri": "https://localhost:8080/"
        },
        "id": "sRBLDhI8bqvi",
        "outputId": "1d388869-8c83-49ff-f50e-c16fa901c0a8"
      },
      "execution_count": null,
      "outputs": [
        {
          "output_type": "stream",
          "name": "stdout",
          "text": [
            "[['2' '3' '0' '5']\n",
            " ['94' '93' '91' '90']\n",
            " ['4' '3' '1' '0']\n",
            " ['C4' 'C3' 'C2' 'C1']]\n"
          ]
        }
      ]
    },
    {
      "cell_type": "code",
      "source": [
        "print(\"Original array\")\n",
        "print(nums)\n",
        "print(\"swap the 1st column and 3rd column\")\n",
        "nums[:,[0,2]]=nums[:,[2,0]]\n",
        "print(nums)"
      ],
      "metadata": {
        "colab": {
          "base_uri": "https://localhost:8080/"
        },
        "id": "xSml2qomgrW-",
        "outputId": "ae4fc1c4-268a-4158-e2e9-32765e2916bd"
      },
      "execution_count": null,
      "outputs": [
        {
          "output_type": "stream",
          "name": "stdout",
          "text": [
            "Original array\n",
            "[['C1' 'C2' 'C3' 'C4']\n",
            " ['0' '1' '3' '4']\n",
            " ['90' '91' '93' '94']\n",
            " ['5' '0' '3' '2']]\n",
            "swap the 1st column and 3rd column\n",
            "[['C3' 'C2' 'C1' 'C4']\n",
            " ['3' '1' '0' '4']\n",
            " ['93' '91' '90' '94']\n",
            " ['3' '0' '5' '2']]\n"
          ]
        }
      ]
    },
    {
      "cell_type": "code",
      "source": [
        "print(\"Original array\")\n",
        "print(nums)\n",
        "print(\"swap the 1st rows and 3rd rows\")\n",
        "nums[[0,2],::-1]=nums[[2,0],::-1]\n",
        "print(nums)"
      ],
      "metadata": {
        "colab": {
          "base_uri": "https://localhost:8080/"
        },
        "id": "pIDlqIpwhiZA",
        "outputId": "a4541e3a-8ae5-45b1-c04f-9374a4383852"
      },
      "execution_count": null,
      "outputs": [
        {
          "output_type": "stream",
          "name": "stdout",
          "text": [
            "Original array\n",
            "[['C1' 'C2' 'C3' 'C4']\n",
            " ['0' '1' '3' '4']\n",
            " ['90' '91' '93' '94']\n",
            " ['5' '0' '3' '2']]\n",
            "swap the 1st rows and 3rd rows\n",
            "[['90' '91' '93' '94']\n",
            " ['0' '1' '3' '4']\n",
            " ['C1' 'C2' 'C3' 'C4']\n",
            " ['5' '0' '3' '2']]\n"
          ]
        }
      ]
    },
    {
      "cell_type": "code",
      "source": [
        "a=10\n",
        "b=80\n",
        "a,b=b,a\n",
        "print(a)\n",
        "print(b)"
      ],
      "metadata": {
        "colab": {
          "base_uri": "https://localhost:8080/"
        },
        "id": "J2PDhGxihtbJ",
        "outputId": "ff501067-2483-4679-b7a9-c365e55fd280"
      },
      "execution_count": null,
      "outputs": [
        {
          "output_type": "stream",
          "name": "stdout",
          "text": [
            "80\n",
            "10\n"
          ]
        }
      ]
    },
    {
      "cell_type": "code",
      "source": [],
      "metadata": {
        "id": "FB4gUXWOlGr3"
      },
      "execution_count": null,
      "outputs": []
    }
  ]
}